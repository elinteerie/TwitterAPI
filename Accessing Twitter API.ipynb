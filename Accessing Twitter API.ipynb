{
 "cells": [
  {
   "cell_type": "code",
   "execution_count": 1,
   "id": "2d8408b7",
   "metadata": {},
   "outputs": [
    {
     "name": "stdout",
     "output_type": "stream",
     "text": [
      "Collecting tweepyNote: you may need to restart the kernel to use updated packages.\n"
     ]
    },
    {
     "name": "stderr",
     "output_type": "stream",
     "text": [
      "ERROR: pip's dependency resolver does not currently take into account all the packages that are installed. This behaviour is the source of the following dependency conflicts.\n",
      "conda-repo-cli 1.0.4 requires pathlib, which is not installed.\n",
      "anaconda-project 0.10.1 requires ruamel-yaml, which is not installed.\n"
     ]
    },
    {
     "name": "stdout",
     "output_type": "stream",
     "text": [
      "\n",
      "  Using cached tweepy-4.9.0-py3-none-any.whl (77 kB)\n",
      "Collecting requests<3,>=2.27.0\n",
      "  Using cached requests-2.27.1-py2.py3-none-any.whl (63 kB)\n",
      "Requirement already satisfied: oauthlib<4,>=3.2.0 in c:\\users\\dell\\anaconda3\\lib\\site-packages (from tweepy) (3.2.0)\n",
      "Requirement already satisfied: requests-oauthlib<2,>=1.2.0 in c:\\users\\dell\\anaconda3\\lib\\site-packages (from tweepy) (1.3.1)\n",
      "Requirement already satisfied: idna<4,>=2.5 in c:\\users\\dell\\anaconda3\\lib\\site-packages (from requests<3,>=2.27.0->tweepy) (3.2)\n",
      "Requirement already satisfied: charset-normalizer~=2.0.0 in c:\\users\\dell\\anaconda3\\lib\\site-packages (from requests<3,>=2.27.0->tweepy) (2.0.4)\n",
      "Requirement already satisfied: certifi>=2017.4.17 in c:\\users\\dell\\anaconda3\\lib\\site-packages (from requests<3,>=2.27.0->tweepy) (2021.10.8)\n",
      "Requirement already satisfied: urllib3<1.27,>=1.21.1 in c:\\users\\dell\\anaconda3\\lib\\site-packages (from requests<3,>=2.27.0->tweepy) (1.26.7)\n",
      "Installing collected packages: requests, tweepy\n",
      "  Attempting uninstall: requests\n",
      "    Found existing installation: requests 2.26.0\n",
      "    Uninstalling requests-2.26.0:\n",
      "      Successfully uninstalled requests-2.26.0\n",
      "Successfully installed requests-2.27.1 tweepy-4.9.0\n"
     ]
    }
   ],
   "source": [
    "pip install tweepy"
   ]
  },
  {
   "cell_type": "code",
   "execution_count": 2,
   "id": "c70fb87b",
   "metadata": {},
   "outputs": [
    {
     "name": "stdout",
     "output_type": "stream",
     "text": [
      "Collecting configparser\n",
      "  Using cached configparser-5.2.0-py3-none-any.whl (19 kB)\n",
      "Installing collected packages: configparser\n",
      "Successfully installed configparser-5.2.0\n",
      "Note: you may need to restart the kernel to use updated packages.\n"
     ]
    }
   ],
   "source": [
    "pip install configparser"
   ]
  },
  {
   "cell_type": "code",
   "execution_count": 3,
   "id": "73dcaa59",
   "metadata": {},
   "outputs": [],
   "source": [
    "import tweepy\n",
    "import configparser\n",
    "import pandas as pd"
   ]
  },
  {
   "cell_type": "code",
   "execution_count": 29,
   "id": "70707648",
   "metadata": {},
   "outputs": [
    {
     "data": {
      "text/plain": [
       "['config.ini']"
      ]
     },
     "execution_count": 29,
     "metadata": {},
     "output_type": "execute_result"
    }
   ],
   "source": [
    "# read configs\n",
    "config = configparser.ConfigParser()\n",
    "config.read('config.ini')"
   ]
  },
  {
   "cell_type": "code",
   "execution_count": 30,
   "id": "0293cfe0",
   "metadata": {},
   "outputs": [],
   "source": [
    "api_key = config['twitter']['api_key']\n",
    "api_key_secret = config['twitter']['api_key_secret']\n",
    "\n",
    "access_token = config['twitter']['access_token']\n",
    "access_token_secret = config['twitter']['access_token_secret']"
   ]
  },
  {
   "cell_type": "code",
   "execution_count": 32,
   "id": "fcda0f7e",
   "metadata": {},
   "outputs": [
    {
     "name": "stdout",
     "output_type": "stream",
     "text": [
      "The umbrella body of all parties has taken steps to ensure there is ample time for all 2023 political activities.… https://t.co/Cm1In0dh4u\n",
      "Local stock market reverses previous day loss as investors earn N557bn https://t.co/noxvj3VQ8h\n",
      "BREAKING: Vice Pres. Harris: \"Sadly, the Senate failed to stand in defense of a woman's right to make decisions abo… https://t.co/OjKPAWixY8\n",
      "See the recent Data #Analytics #DataScience #AI #MachineLearning articles &amp; resources for #DataScientists at… https://t.co/dfgguKutuU\n",
      "A Catholic Priest, Rev Fr. Joseph Aketeh Bako, has died eight weeks after he was abducted in captivity.\n",
      "https://t.co/m7stbu0LiU\n",
      "Using #Automation in #AI with Recent Enterprise Tools: https://t.co/fMVulgfhDm\n",
      "———————\n",
      "#abdsc #BigData #DataScience… https://t.co/f3eFtLvmLP\n",
      "RT @jaiden_mcadoo: @SixBrownChicks Q6: She hit you with the Uno Reverse card! Love to see it!!!!! https://t.co/okkQSP2NP0\n",
      "BREAKING: Senate Republicans, joined by Democratic Sen. Joe Manchin, block bill that would codify Roe v. Wade. https://t.co/rWORDlda4O\n",
      "RT @sportsbriefcom: Chelsea grabs all 3 points from Leeds! \n",
      "\n",
      "FT: Leeds 0:3 Chelsea \n",
      "\n",
      "📸: Robbie Jay Barratt - AMA (Getty Images) \n",
      "\n",
      "#LeeChe h…\n",
      "Taraba Senator, Bwacha reacts to Appeal Court judgement on Electoral Act https://t.co/2KsJcthrA1\n",
      "RT @SixBrownChicks: Q6. My wife got cancer, so I quit my sidechick and devoted my time to her. I took an extra job, pawned everything to pa…\n",
      "Teachers Council Wants NASS To Amend Its Law, Change Name\n",
      "https://t.co/n8Vg3rEIcL\n",
      "Draft 1300page PDF of NEW book (April 2022, plus 240page supplemental material) “Probabilistic #MachineLearning — A… https://t.co/u4FNGbnNYX\n",
      "EXCLUSIVE: Masanawa, Managing Director Of Nigerian Company In Charge Of Printing Election Materials Picks APC Gover… https://t.co/EONC9iMwq3\n",
      "There is something very significant about this month of May especially. \n",
      "The Presidency ordered all Cabinets who wi… https://t.co/tkvj73m1Gm\n",
      "\"I don't want anyone to go through the same thing that my family is going through.\" https://t.co/NH1ZpM6FFl\n",
      "👆⬆️👆 https://t.co/XCa9cIGCzs\n",
      "WAEC, NECO accuse 20 Secondary schools, 23 teachers of exam malpractice in Bayelsa https://t.co/X3EmVQAixK\n",
      "2023: Orji Kalu betrayed Igbo cause, says Edwin Clark https://t.co/YWzh3LDFxB\n"
     ]
    }
   ],
   "source": [
    "auth = tweepy.OAuth1UserHandler(\n",
    "   api_key, api_key_secret, access_token, access_token_secret\n",
    ")\n",
    "\n",
    "api = tweepy.API(auth)\n",
    "\n",
    "public_tweets = api.home_timeline()\n",
    "for tweet in public_tweets:\n",
    "    print(tweet.text)"
   ]
  },
  {
   "cell_type": "code",
   "execution_count": 33,
   "id": "d5f60e3d",
   "metadata": {},
   "outputs": [],
   "source": [
    "user = api.get_user(screen_name='elinteerie')"
   ]
  },
  {
   "cell_type": "code",
   "execution_count": 34,
   "id": "53043b28",
   "metadata": {},
   "outputs": [
    {
     "name": "stdout",
     "output_type": "stream",
     "text": [
      "User(_api=<tweepy.api.API object at 0x00000223AC149340>, _json={'id': 1306192947977871360, 'id_str': '1306192947977871360', 'name': 'Elint Eerie', 'screen_name': 'elinteerie', 'location': 'Talking', 'profile_location': None, 'description': 'Data Scientist | Machine Learning Engineer | Only Interested in Humans, Robots, AI, AR', 'url': None, 'entities': {'description': {'urls': []}}, 'protected': False, 'followers_count': 49, 'friends_count': 171, 'listed_count': 0, 'created_at': 'Wed Sep 16 11:27:41 +0000 2020', 'favourites_count': 207, 'utc_offset': None, 'time_zone': None, 'geo_enabled': False, 'verified': False, 'statuses_count': 210, 'lang': None, 'status': {'created_at': 'Tue May 10 23:08:35 +0000 2022', 'id': 1524164526861701120, 'id_str': '1524164526861701120', 'text': '@Sukriti_Macker 👋', 'truncated': False, 'entities': {'hashtags': [], 'symbols': [], 'user_mentions': [{'screen_name': 'Sukriti_Macker', 'name': 'Sukriti Macker', 'id': 2994710863, 'id_str': '2994710863', 'indices': [0, 15]}], 'urls': []}, 'source': '<a href=\"https://mobile.twitter.com\" rel=\"nofollow\">Twitter Web App</a>', 'in_reply_to_status_id': 1524073735338479616, 'in_reply_to_status_id_str': '1524073735338479616', 'in_reply_to_user_id': 2994710863, 'in_reply_to_user_id_str': '2994710863', 'in_reply_to_screen_name': 'Sukriti_Macker', 'geo': None, 'coordinates': None, 'place': None, 'contributors': None, 'is_quote_status': False, 'retweet_count': 0, 'favorite_count': 0, 'favorited': False, 'retweeted': False, 'lang': 'und'}, 'contributors_enabled': False, 'is_translator': False, 'is_translation_enabled': False, 'profile_background_color': 'F5F8FA', 'profile_background_image_url': None, 'profile_background_image_url_https': None, 'profile_background_tile': False, 'profile_image_url': 'http://pbs.twimg.com/profile_images/1520687965059571713/7XnV4x6O_normal.jpg', 'profile_image_url_https': 'https://pbs.twimg.com/profile_images/1520687965059571713/7XnV4x6O_normal.jpg', 'profile_banner_url': 'https://pbs.twimg.com/profile_banners/1306192947977871360/1651395240', 'profile_link_color': '1DA1F2', 'profile_sidebar_border_color': 'C0DEED', 'profile_sidebar_fill_color': 'DDEEF6', 'profile_text_color': '333333', 'profile_use_background_image': True, 'has_extended_profile': True, 'default_profile': True, 'default_profile_image': False, 'following': False, 'follow_request_sent': False, 'notifications': False, 'translator_type': 'none', 'withheld_in_countries': [], 'suspended': False, 'needs_phone_verification': False}, id=1306192947977871360, id_str='1306192947977871360', name='Elint Eerie', screen_name='elinteerie', location='Talking', profile_location=None, description='Data Scientist | Machine Learning Engineer | Only Interested in Humans, Robots, AI, AR', url=None, entities={'description': {'urls': []}}, protected=False, followers_count=49, friends_count=171, listed_count=0, created_at=datetime.datetime(2020, 9, 16, 11, 27, 41, tzinfo=datetime.timezone.utc), favourites_count=207, utc_offset=None, time_zone=None, geo_enabled=False, verified=False, statuses_count=210, lang=None, status=Status(_api=<tweepy.api.API object at 0x00000223AC149340>, _json={'created_at': 'Tue May 10 23:08:35 +0000 2022', 'id': 1524164526861701120, 'id_str': '1524164526861701120', 'text': '@Sukriti_Macker 👋', 'truncated': False, 'entities': {'hashtags': [], 'symbols': [], 'user_mentions': [{'screen_name': 'Sukriti_Macker', 'name': 'Sukriti Macker', 'id': 2994710863, 'id_str': '2994710863', 'indices': [0, 15]}], 'urls': []}, 'source': '<a href=\"https://mobile.twitter.com\" rel=\"nofollow\">Twitter Web App</a>', 'in_reply_to_status_id': 1524073735338479616, 'in_reply_to_status_id_str': '1524073735338479616', 'in_reply_to_user_id': 2994710863, 'in_reply_to_user_id_str': '2994710863', 'in_reply_to_screen_name': 'Sukriti_Macker', 'geo': None, 'coordinates': None, 'place': None, 'contributors': None, 'is_quote_status': False, 'retweet_count': 0, 'favorite_count': 0, 'favorited': False, 'retweeted': False, 'lang': 'und'}, created_at=datetime.datetime(2022, 5, 10, 23, 8, 35, tzinfo=datetime.timezone.utc), id=1524164526861701120, id_str='1524164526861701120', text='@Sukriti_Macker 👋', truncated=False, entities={'hashtags': [], 'symbols': [], 'user_mentions': [{'screen_name': 'Sukriti_Macker', 'name': 'Sukriti Macker', 'id': 2994710863, 'id_str': '2994710863', 'indices': [0, 15]}], 'urls': []}, source='Twitter Web App', source_url='https://mobile.twitter.com', in_reply_to_status_id=1524073735338479616, in_reply_to_status_id_str='1524073735338479616', in_reply_to_user_id=2994710863, in_reply_to_user_id_str='2994710863', in_reply_to_screen_name='Sukriti_Macker', geo=None, coordinates=None, place=None, contributors=None, is_quote_status=False, retweet_count=0, favorite_count=0, favorited=False, retweeted=False, lang='und'), contributors_enabled=False, is_translator=False, is_translation_enabled=False, profile_background_color='F5F8FA', profile_background_image_url=None, profile_background_image_url_https=None, profile_background_tile=False, profile_image_url='http://pbs.twimg.com/profile_images/1520687965059571713/7XnV4x6O_normal.jpg', profile_image_url_https='https://pbs.twimg.com/profile_images/1520687965059571713/7XnV4x6O_normal.jpg', profile_banner_url='https://pbs.twimg.com/profile_banners/1306192947977871360/1651395240', profile_link_color='1DA1F2', profile_sidebar_border_color='C0DEED', profile_sidebar_fill_color='DDEEF6', profile_text_color='333333', profile_use_background_image=True, has_extended_profile=True, default_profile=True, default_profile_image=False, following=False, follow_request_sent=False, notifications=False, translator_type='none', withheld_in_countries=[], suspended=False, needs_phone_verification=False)\n"
     ]
    }
   ],
   "source": [
    "print(user)"
   ]
  },
  {
   "cell_type": "code",
   "execution_count": 36,
   "id": "9e1341a7",
   "metadata": {},
   "outputs": [
    {
     "data": {
      "text/plain": [
       "Status(_api=<tweepy.api.API object at 0x00000223AC149340>, _json={'created_at': 'Wed May 11 20:46:21 +0000 2022', 'id': 1524491120960487424, 'id_str': '1524491120960487424', 'text': \"This is My First Tweet Using The Twitter Developer API. It's going to be fun\", 'truncated': False, 'entities': {'hashtags': [], 'symbols': [], 'user_mentions': [], 'urls': []}, 'source': '<a href=\"https://ulphabet.xyz\" rel=\"nofollow\">Ugobest</a>', 'in_reply_to_status_id': None, 'in_reply_to_status_id_str': None, 'in_reply_to_user_id': None, 'in_reply_to_user_id_str': None, 'in_reply_to_screen_name': None, 'user': {'id': 1306192947977871360, 'id_str': '1306192947977871360', 'name': 'Elint Eerie', 'screen_name': 'elinteerie', 'location': 'Talking', 'description': 'Data Scientist | Machine Learning Engineer | Only Interested in Humans, Robots, AI, AR', 'url': None, 'entities': {'description': {'urls': []}}, 'protected': False, 'followers_count': 49, 'friends_count': 171, 'listed_count': 0, 'created_at': 'Wed Sep 16 11:27:41 +0000 2020', 'favourites_count': 207, 'utc_offset': None, 'time_zone': None, 'geo_enabled': False, 'verified': False, 'statuses_count': 211, 'lang': None, 'contributors_enabled': False, 'is_translator': False, 'is_translation_enabled': False, 'profile_background_color': 'F5F8FA', 'profile_background_image_url': None, 'profile_background_image_url_https': None, 'profile_background_tile': False, 'profile_image_url': 'http://pbs.twimg.com/profile_images/1520687965059571713/7XnV4x6O_normal.jpg', 'profile_image_url_https': 'https://pbs.twimg.com/profile_images/1520687965059571713/7XnV4x6O_normal.jpg', 'profile_banner_url': 'https://pbs.twimg.com/profile_banners/1306192947977871360/1651395240', 'profile_link_color': '1DA1F2', 'profile_sidebar_border_color': 'C0DEED', 'profile_sidebar_fill_color': 'DDEEF6', 'profile_text_color': '333333', 'profile_use_background_image': True, 'has_extended_profile': True, 'default_profile': True, 'default_profile_image': False, 'following': False, 'follow_request_sent': False, 'notifications': False, 'translator_type': 'none', 'withheld_in_countries': []}, 'geo': None, 'coordinates': None, 'place': None, 'contributors': None, 'is_quote_status': False, 'retweet_count': 0, 'favorite_count': 0, 'favorited': False, 'retweeted': False, 'lang': 'en'}, created_at=datetime.datetime(2022, 5, 11, 20, 46, 21, tzinfo=datetime.timezone.utc), id=1524491120960487424, id_str='1524491120960487424', text=\"This is My First Tweet Using The Twitter Developer API. It's going to be fun\", truncated=False, entities={'hashtags': [], 'symbols': [], 'user_mentions': [], 'urls': []}, source='Ugobest', source_url='https://ulphabet.xyz', in_reply_to_status_id=None, in_reply_to_status_id_str=None, in_reply_to_user_id=None, in_reply_to_user_id_str=None, in_reply_to_screen_name=None, author=User(_api=<tweepy.api.API object at 0x00000223AC149340>, _json={'id': 1306192947977871360, 'id_str': '1306192947977871360', 'name': 'Elint Eerie', 'screen_name': 'elinteerie', 'location': 'Talking', 'description': 'Data Scientist | Machine Learning Engineer | Only Interested in Humans, Robots, AI, AR', 'url': None, 'entities': {'description': {'urls': []}}, 'protected': False, 'followers_count': 49, 'friends_count': 171, 'listed_count': 0, 'created_at': 'Wed Sep 16 11:27:41 +0000 2020', 'favourites_count': 207, 'utc_offset': None, 'time_zone': None, 'geo_enabled': False, 'verified': False, 'statuses_count': 211, 'lang': None, 'contributors_enabled': False, 'is_translator': False, 'is_translation_enabled': False, 'profile_background_color': 'F5F8FA', 'profile_background_image_url': None, 'profile_background_image_url_https': None, 'profile_background_tile': False, 'profile_image_url': 'http://pbs.twimg.com/profile_images/1520687965059571713/7XnV4x6O_normal.jpg', 'profile_image_url_https': 'https://pbs.twimg.com/profile_images/1520687965059571713/7XnV4x6O_normal.jpg', 'profile_banner_url': 'https://pbs.twimg.com/profile_banners/1306192947977871360/1651395240', 'profile_link_color': '1DA1F2', 'profile_sidebar_border_color': 'C0DEED', 'profile_sidebar_fill_color': 'DDEEF6', 'profile_text_color': '333333', 'profile_use_background_image': True, 'has_extended_profile': True, 'default_profile': True, 'default_profile_image': False, 'following': False, 'follow_request_sent': False, 'notifications': False, 'translator_type': 'none', 'withheld_in_countries': []}, id=1306192947977871360, id_str='1306192947977871360', name='Elint Eerie', screen_name='elinteerie', location='Talking', description='Data Scientist | Machine Learning Engineer | Only Interested in Humans, Robots, AI, AR', url=None, entities={'description': {'urls': []}}, protected=False, followers_count=49, friends_count=171, listed_count=0, created_at=datetime.datetime(2020, 9, 16, 11, 27, 41, tzinfo=datetime.timezone.utc), favourites_count=207, utc_offset=None, time_zone=None, geo_enabled=False, verified=False, statuses_count=211, lang=None, contributors_enabled=False, is_translator=False, is_translation_enabled=False, profile_background_color='F5F8FA', profile_background_image_url=None, profile_background_image_url_https=None, profile_background_tile=False, profile_image_url='http://pbs.twimg.com/profile_images/1520687965059571713/7XnV4x6O_normal.jpg', profile_image_url_https='https://pbs.twimg.com/profile_images/1520687965059571713/7XnV4x6O_normal.jpg', profile_banner_url='https://pbs.twimg.com/profile_banners/1306192947977871360/1651395240', profile_link_color='1DA1F2', profile_sidebar_border_color='C0DEED', profile_sidebar_fill_color='DDEEF6', profile_text_color='333333', profile_use_background_image=True, has_extended_profile=True, default_profile=True, default_profile_image=False, following=False, follow_request_sent=False, notifications=False, translator_type='none', withheld_in_countries=[]), user=User(_api=<tweepy.api.API object at 0x00000223AC149340>, _json={'id': 1306192947977871360, 'id_str': '1306192947977871360', 'name': 'Elint Eerie', 'screen_name': 'elinteerie', 'location': 'Talking', 'description': 'Data Scientist | Machine Learning Engineer | Only Interested in Humans, Robots, AI, AR', 'url': None, 'entities': {'description': {'urls': []}}, 'protected': False, 'followers_count': 49, 'friends_count': 171, 'listed_count': 0, 'created_at': 'Wed Sep 16 11:27:41 +0000 2020', 'favourites_count': 207, 'utc_offset': None, 'time_zone': None, 'geo_enabled': False, 'verified': False, 'statuses_count': 211, 'lang': None, 'contributors_enabled': False, 'is_translator': False, 'is_translation_enabled': False, 'profile_background_color': 'F5F8FA', 'profile_background_image_url': None, 'profile_background_image_url_https': None, 'profile_background_tile': False, 'profile_image_url': 'http://pbs.twimg.com/profile_images/1520687965059571713/7XnV4x6O_normal.jpg', 'profile_image_url_https': 'https://pbs.twimg.com/profile_images/1520687965059571713/7XnV4x6O_normal.jpg', 'profile_banner_url': 'https://pbs.twimg.com/profile_banners/1306192947977871360/1651395240', 'profile_link_color': '1DA1F2', 'profile_sidebar_border_color': 'C0DEED', 'profile_sidebar_fill_color': 'DDEEF6', 'profile_text_color': '333333', 'profile_use_background_image': True, 'has_extended_profile': True, 'default_profile': True, 'default_profile_image': False, 'following': False, 'follow_request_sent': False, 'notifications': False, 'translator_type': 'none', 'withheld_in_countries': []}, id=1306192947977871360, id_str='1306192947977871360', name='Elint Eerie', screen_name='elinteerie', location='Talking', description='Data Scientist | Machine Learning Engineer | Only Interested in Humans, Robots, AI, AR', url=None, entities={'description': {'urls': []}}, protected=False, followers_count=49, friends_count=171, listed_count=0, created_at=datetime.datetime(2020, 9, 16, 11, 27, 41, tzinfo=datetime.timezone.utc), favourites_count=207, utc_offset=None, time_zone=None, geo_enabled=False, verified=False, statuses_count=211, lang=None, contributors_enabled=False, is_translator=False, is_translation_enabled=False, profile_background_color='F5F8FA', profile_background_image_url=None, profile_background_image_url_https=None, profile_background_tile=False, profile_image_url='http://pbs.twimg.com/profile_images/1520687965059571713/7XnV4x6O_normal.jpg', profile_image_url_https='https://pbs.twimg.com/profile_images/1520687965059571713/7XnV4x6O_normal.jpg', profile_banner_url='https://pbs.twimg.com/profile_banners/1306192947977871360/1651395240', profile_link_color='1DA1F2', profile_sidebar_border_color='C0DEED', profile_sidebar_fill_color='DDEEF6', profile_text_color='333333', profile_use_background_image=True, has_extended_profile=True, default_profile=True, default_profile_image=False, following=False, follow_request_sent=False, notifications=False, translator_type='none', withheld_in_countries=[]), geo=None, coordinates=None, place=None, contributors=None, is_quote_status=False, retweet_count=0, favorite_count=0, favorited=False, retweeted=False, lang='en')"
      ]
     },
     "execution_count": 36,
     "metadata": {},
     "output_type": "execute_result"
    }
   ],
   "source": [
    "status = \"This is My First Tweet Using The Twitter Developer API. It's going to be fun\"\n",
    "api.update_status(status=status)"
   ]
  },
  {
   "cell_type": "code",
   "execution_count": null,
   "id": "f25ecd57",
   "metadata": {},
   "outputs": [],
   "source": []
  }
 ],
 "metadata": {
  "kernelspec": {
   "display_name": "Python 3 (ipykernel)",
   "language": "python",
   "name": "python3"
  },
  "language_info": {
   "codemirror_mode": {
    "name": "ipython",
    "version": 3
   },
   "file_extension": ".py",
   "mimetype": "text/x-python",
   "name": "python",
   "nbconvert_exporter": "python",
   "pygments_lexer": "ipython3",
   "version": "3.9.7"
  }
 },
 "nbformat": 4,
 "nbformat_minor": 5
}
